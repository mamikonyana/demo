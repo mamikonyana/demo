{
 "cells": [
  {
   "cell_type": "markdown",
   "metadata": {},
   "source": [
    "## Verifying Pólya urn model limiting distribution is a beta"
   ]
  },
  {
   "cell_type": "markdown",
   "metadata": {},
   "source": [
    "Let's start with writing a `run_polya_urn` function that simulates polya urn run for `N` steps and outputs number of balls in each category."
   ]
  },
  {
   "cell_type": "code",
   "execution_count": 1,
   "metadata": {
    "collapsed": true
   },
   "outputs": [],
   "source": [
    "import random\n",
    "\n",
    "def run_polya_urn(a, b, N):\n",
    "    for i in range(N):\n",
    "        x = random.randrange(a + b)\n",
    "        if x < a:\n",
    "            a, b = a + 1, b\n",
    "        else:\n",
    "            a, b = a, b + 1\n",
    "    return a, b"
   ]
  },
  {
   "cell_type": "markdown",
   "metadata": {},
   "source": [
    "Now let's take a look at what we get."
   ]
  },
  {
   "cell_type": "code",
   "execution_count": 2,
   "metadata": {
    "collapsed": false
   },
   "outputs": [
    {
     "name": "stdout",
     "output_type": "stream",
     "text": [
      "  5298,  14707,   0.26\n",
      " 10664,   9341,   0.53\n",
      " 10616,   9389,   0.53\n"
     ]
    }
   ],
   "source": [
    "for i in range(3):\n",
    "    x, y = run_polya_urn(2, 3, 20000)\n",
    "    print(\"{:6}, {:6}, {:6.2f}\".format(x, y, x / (x + y)))"
   ]
  },
  {
   "cell_type": "markdown",
   "metadata": {},
   "source": [
    "Now let's write a function that outomatically will give us ratios of the first category after `Nlim` iteratios, and reapeat the whole process for `Nratios` times."
   ]
  },
  {
   "cell_type": "code",
   "execution_count": 3,
   "metadata": {
    "collapsed": true
   },
   "outputs": [],
   "source": [
    "def generate_ratios(a, b, Nratios, Nlim):\n",
    "    runs = (run_polya_urn(a, b, Nlim) for _ in range(Nratios))\n",
    "    return [1. * a_n / (a_n + b_n) for a_n, b_n in runs]"
   ]
  },
  {
   "cell_type": "markdown",
   "metadata": {},
   "source": [
    "Now let's plot the histogram of what we get, for `a, b = 2, 4` (chosen arbitrarily for demonstration)"
   ]
  },
  {
   "cell_type": "code",
   "execution_count": 4,
   "metadata": {
    "collapsed": false
   },
   "outputs": [
    {
     "data": {
      "image/png": "[encoded data removed]",
      "text/plain": [
       "<matplotlib.figure.Figure at 0x1052bd5f8>"
      ]
     },
     "metadata": {},
     "output_type": "display_data"
    }
   ],
   "source": [
    "%matplotlib inline\n",
    "\n",
    "import matplotlib.pyplot as pyplot\n",
    "\n",
    "a, b = 2, 4\n",
    "\n",
    "ratios = generate_ratios(a, b, 2000, 2000)\n",
    "n, bins, patches = pyplot.hist(ratios, bins=100)\n",
    "_ = pyplot.xlim(0, 1)"
   ]
  },
  {
   "cell_type": "markdown",
   "metadata": {},
   "source": [
    "If you are familiar with beta distributions you could probably see similarity, but if you are not let's plot `Beta(2, 4)` on top of the histagram."
   ]
  },
  {
   "cell_type": "code",
   "execution_count": 5,
   "metadata": {
    "collapsed": false
   },
   "outputs": [
    {
     "data": {
      "image/png": "[encoded data removed]",
      "text/plain": [
       "<matplotlib.figure.Figure at 0x106997668>"
      ]
     },
     "metadata": {},
     "output_type": "display_data"
    }
   ],
   "source": [
    "from scipy.stats import beta\n",
    "import numpy as np\n",
    "\n",
    "w = bins[1] - bins[0]\n",
    "n, bins, patches = pyplot.hist(ratios, bins=100)\n",
    "_ = pyplot.plot(bins, len(ratios) * w * beta.pdf(bins, a, b), 'r-', lw=5, alpha=0.6, label='beta pdf')"
   ]
  },
  {
   "cell_type": "markdown",
   "metadata": {},
   "source": [
    "It's pretty close to Beta distribution if you ask me, considering we only ran each ploy urn for only `2000` iterations."
   ]
  }
 ],
 "metadata": {
  "kernelspec": {
   "display_name": "Python 3",
   "language": "python",
   "name": "python3"
  },
  "language_info": {
   "codemirror_mode": {
    "name": "ipython",
    "version": 3
   },
   "file_extension": ".py",
   "mimetype": "text/x-python",
   "name": "python",
   "nbconvert_exporter": "python",
   "pygments_lexer": "ipython3",
   "version": "3.5.1"
  }
 },
 "nbformat": 4,
 "nbformat_minor": 0
}
